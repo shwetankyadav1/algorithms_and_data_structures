{
 "cells": [
  {
   "cell_type": "markdown",
   "metadata": {},
   "source": [
    "# Practice Interview\n",
    "\n",
    "## Objective\n",
    "\n",
    "_*The partner assignment aims to provide participants with the opportunity to practice coding in an interview context. You will analyze your partner's Assignment 1. Moreover, code reviews are common practice in a software development team. This assignment should give you a taste of the code review process.*_\n",
    "\n",
    "## Group Size\n",
    "\n",
    "Each group should have 2 people. You will be assigned a partner\n",
    "\n",
    "## Part 1:\n",
    "\n",
    "You and your partner must share each other's Assignment 1 submission. \\\n",
    "Partner assigned by Salaar was Freddy Rincon  https://github.com/FredyLRincon/algorithms_and_data_structures/pulls."
   ]
  },
  {
   "cell_type": "markdown",
   "metadata": {},
   "source": [
    "\n",
    "## Part 2:\n",
    "\n",
    "Create a Jupyter Notebook, create 6 of the following headings, and complete the following for your partner's assignment 1:\n",
    "\n",
    "-   Paraphrase the problem in your own words.\n"
   ]
  },
  {
   "cell_type": "code",
   "execution_count": null,
   "metadata": {},
   "outputs": [],
   "source": [
    "# Find all sequence of numbers starting from root to an end node (leaf), going only in increasing depth with no repeating of nodes in same sequence (path)"
   ]
  },
  {
   "cell_type": "markdown",
   "metadata": {},
   "source": [
    "\n",
    "-   Create 1 new example that demonstrates you understand the problem. Trace/walkthrough 1 example that your partner made and explain it.\n"
   ]
  },
  {
   "cell_type": "code",
   "execution_count": null,
   "metadata": {},
   "outputs": [],
   "source": [
    "# If we pass in root=[1,3,2], the output should be [[1,3],[1,2]]. The partner gives an example of [4, 2, 6, 1, 3, 5, 7]. Going in BFS traversal of tree, \n",
    "# The the root of tree will have 4 as node value, then next level of depth will have 2 & 6 as nodes, then 3rd level will have 1 & 3 as branches of the 2 node\n",
    "# in level 2 and 5 & 7 will be branches of the 6 node in level 2. So the possible paths from root are: going down the 2 node in level 2: [4,2,1] & [4,2,3],\n",
    "# going down the 6 node in level 2: [4,6,5] & [4,6,7]. This gives output of [[4, 2, 1], [4, 2, 3], [4, 6, 5], [4, 6, 7]] as list of lists"
   ]
  },
  {
   "cell_type": "markdown",
   "metadata": {},
   "source": [
    "\n",
    "-   Copy the solution your partner wrote. \n"
   ]
  },
  {
   "cell_type": "code",
   "execution_count": 1,
   "metadata": {},
   "outputs": [],
   "source": [
    "\n",
    "from typing import List\n",
    "\n",
    "class TreeNode:\n",
    "    def __init__(self, val=0, left=None, right=None):\n",
    "        self.val = val\n",
    "        self.left = left\n",
    "        self.right = right\n",
    "\n",
    "def bt_path(root: TreeNode) -> List[List[int]]:\n",
    "    if not root:\n",
    "        return []\n",
    "\n",
    "    def dfs(node, path):\n",
    "        path.append(node.val)\n",
    "        if not node.left and not node.right:\n",
    "            paths.append(path)\n",
    "        if node.left:\n",
    "            dfs(node.left, path.copy())\n",
    "        if node.right:\n",
    "            dfs(node.right, path.copy())\n",
    "\n",
    "    paths = []\n",
    "    dfs(root, [])\n",
    "    return paths"
   ]
  },
  {
   "cell_type": "code",
   "execution_count": 24,
   "metadata": {},
   "outputs": [],
   "source": [
    "root = TreeNode(10)\n",
    "root.left = TreeNode(9)\n",
    "root.right = TreeNode(7)\n",
    "root.left.left = TreeNode(8)\n",
    "#root.left.right = TreeNode(5)\n",
    "#root.right.left = TreeNode(6)\n",
    "#root.right.right = TreeNode(7)"
   ]
  },
  {
   "cell_type": "code",
   "execution_count": 25,
   "metadata": {},
   "outputs": [
    {
     "data": {
      "text/plain": [
       "[[10, 9, 8], [10, 7]]"
      ]
     },
     "execution_count": 25,
     "metadata": {},
     "output_type": "execute_result"
    }
   ],
   "source": [
    "bt_path(root)"
   ]
  },
  {
   "cell_type": "markdown",
   "metadata": {},
   "source": [
    "\n",
    "-   Explain why their solution works in your own words.\n"
   ]
  },
  {
   "cell_type": "code",
   "execution_count": null,
   "metadata": {},
   "outputs": [],
   "source": [
    "# The solution works through recursion and assumes input of tree structure according to TreeNode class, where each node is assigned a value and a pissilbe left or \n",
    "# right (representing left or right branches). The code then defines a master list to keep a list of all paths (called 'paths') which is initialized as empty.\n",
    "# Then dfs function takes in a TreeNode object and an empty list which gets called 'path' within the function and stores a particular path through the tree.\n",
    "#The dfs function basically appends the list of the current node (the initially passed object has the root node as current node) to the local copy of 'path',\n",
    "#then checks to see if there are left or right branches to the current node, in which case it recursively calls itself by passing the left or right branch \n",
    "# (resulting in sub-tree being passed in) as well as a copy of the 'path' list, which ensures all future node values (higher depth branches of this node)\n",
    "# will be appended to this list. If the function finds that the current node has no left or right nodes, it knows appends the current local copy of 'path' \n",
    "# to the 'paths' master list and knows a leaf has been reached, ending this particular recursion branch. Therefore, at the end all local 'path' copies \n",
    "# are stored in 'paths' master list which is then returned ."
   ]
  },
  {
   "cell_type": "markdown",
   "metadata": {},
   "source": [
    "\n",
    "-   Explain the problem’s time and space complexity in your own words.\n"
   ]
  },
  {
   "cell_type": "code",
   "execution_count": null,
   "metadata": {},
   "outputs": [],
   "source": [
    "# The time complexity will be O(n) as each node will be necessitate storing it's value and calling function to check for next possibly branch node. \n",
    "# The space complexity will be O(n) as all the node values will have to be stored at least once, with max total paths being max number of nodes (leaves) in last\n",
    "# level of tree times height which is reduced to order of n. "
   ]
  },
  {
   "cell_type": "markdown",
   "metadata": {},
   "source": [
    "\n",
    "-   Critique your partner's solution, including explanation, and if there is anything that should be adjusted.\n"
   ]
  },
  {
   "cell_type": "code",
   "execution_count": null,
   "metadata": {},
   "outputs": [],
   "source": [
    "#The solution is well done with a simple elegant amount of code and is probably matches the best possibly time and space complexity possible for this type of \n",
    "#problem. In terms of explanation, there were no comments in code and the explanation section is just a single sentence stating solution is solved but no \n",
    "# details or walkthrough of function algorithm or method or assumptions. Additionally, the partner assumes input in the form of TreeNode class. However, \n",
    "# the examples for problem give input in form of simple list (root=[]). While the starting code snippet does define an annotation check for TreeNode class, \n",
    "# this might be leftover code and does not actually affect python execution by itself. Ultimately, this is down to interpretation of problem definition,\n",
    "# but the problem statement and examples strongly suggest simple list input. In the case of list input, the current partner solution would have to be \n",
    "# adapted to convert list to TreeNode object or work with list alone with different code. "
   ]
  },
  {
   "cell_type": "markdown",
   "metadata": {},
   "source": [
    "\n",
    "## Part 3:\n",
    "\n",
    "Please write a 200 word reflection documenting your process from assignment 1, and your presentation and review experience with your partner at the bottom of the Jupyter Notebook under a new heading \"Reflection.\" Again, export this Notebook as pdf.\n"
   ]
  },
  {
   "cell_type": "markdown",
   "metadata": {},
   "source": [
    "### Reflection"
   ]
  },
  {
   "cell_type": "markdown",
   "metadata": {},
   "source": [
    "I went through the examples to determine input format correspondence to shown binary trees;  it was traversing them in BFS. Next step was to figure out how to recognize tree from input string, focusing on fact that it is binary & every depth level has 2^(depth) nodes. So, defined function with loop to first print out each depth level’s nodes to check if it was recognizing levels correctly. Realizing could look at each level’s node’s independently, decided to iterate through them while checking visited nodes for duplicates. To figure out closest to root, had to store each visited node’s distance, so put them in a dictionary with depth level (corresponding to distance to root). So now, also check shortest distance to choose duplicate. Checked with examples, including empty and 1 element trees. For alternate solution, realized didn’t need to separate out levels, just being earlier in input list meant closer or equal in distance to root than current node, needing only one ‘for’ loop and simpler code. \n",
    "Reviewing partner’s code was interesting as they assumed not input list but TreeNode object, so used a simple recursive approach which is not what I was considering on first reading the question. \n"
   ]
  },
  {
   "cell_type": "markdown",
   "metadata": {},
   "source": [
    "\n",
    "## Evaluation Criteria\n",
    "\n",
    "We are looking for the similar points as Assignment 1\n",
    "\n",
    "-   Problem is accurately stated\n",
    "\n",
    "-   New example is correct and easily understandable\n",
    "\n",
    "-   Correctness, time, and space complexity of the coding solution\n",
    "\n",
    "-   Clarity in explaining why the solution works, its time and space complexity\n",
    "\n",
    "-   Quality of critique of your partner's assignment, if necessary\n"
   ]
  },
  {
   "cell_type": "markdown",
   "metadata": {},
   "source": [
    "## Submission Information\n",
    "\n",
    "🚨 **Please review our [Assignment Submission Guide](https://github.com/UofT-DSI/onboarding/blob/main/onboarding_documents/submissions.md)** 🚨 for detailed instructions on how to format, branch, and submit your work. Following these guidelines is crucial for your submissions to be evaluated correctly.\n",
    "\n",
    "### Submission Parameters:\n",
    "* Submission Due Date: `HH:MM AM/PM - DD/MM/YYYY`\n",
    "* The branch name for your repo should be: `assignment-2`\n",
    "* What to submit for this assignment:\n",
    "    * This Jupyter Notebook (assignment_2.ipynb) should be populated and should be the only change in your pull request.\n",
    "* What the pull request link should look like for this assignment: `https://github.com/<your_github_username>/algorithms_and_data_structures/pull/<pr_id>`\n",
    "    * Open a private window in your browser. Copy and paste the link to your pull request into the address bar. Make sure you can see your pull request properly. This helps the technical facilitator and learning support staff review your submission easily.\n",
    "\n",
    "Checklist:\n",
    "- [ ] Created a branch with the correct naming convention.\n",
    "- [ ] Ensured that the repository is public.\n",
    "- [ ] Reviewed the PR description guidelines and adhered to them.\n",
    "- [ ] Verify that the link is accessible in a private browser window.\n",
    "\n",
    "If you encounter any difficulties or have questions, please don't hesitate to reach out to our team via our Slack at `#cohort-3-help`. Our Technical Facilitators and Learning Support staff are here to help you navigate any challenges.\n"
   ]
  }
 ],
 "metadata": {
  "kernelspec": {
   "display_name": "dsi_participant",
   "language": "python",
   "name": "python3"
  },
  "language_info": {
   "codemirror_mode": {
    "name": "ipython",
    "version": 3
   },
   "file_extension": ".py",
   "mimetype": "text/x-python",
   "name": "python",
   "nbconvert_exporter": "python",
   "pygments_lexer": "ipython3",
   "version": "3.9.15"
  }
 },
 "nbformat": 4,
 "nbformat_minor": 2
}
