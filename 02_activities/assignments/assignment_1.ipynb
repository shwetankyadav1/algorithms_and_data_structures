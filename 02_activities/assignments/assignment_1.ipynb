{
 "cells": [
  {
   "cell_type": "markdown",
   "metadata": {},
   "source": [
    "# Coding Problems\n",
    "\n",
    "## Objective\n",
    "\n",
    "This assignment aims to demonstrate how to study a data structures or algorithms question in depth to prepare for an industry coding interview. Leetcode is a popular coding practice site that many use to practice for technical interviews. Like behavioral interviews, it's important to practice and keep your skills sharp.\n",
    "\n",
    "## Group Size\n",
    "\n",
    "Please complete this individually.\n",
    "\n",
    "## Part 1:\n",
    "\n",
    "_*You will be assigned one of three problems based of your first name. Execute the code below, and that will tell you your assigned problem. Include the output as part of your submission (do not clear the output). The problems are based-off problems from Leetcode.*_\n"
   ]
  },
  {
   "cell_type": "code",
   "execution_count": 1,
   "metadata": {},
   "outputs": [
    {
     "name": "stdout",
     "output_type": "stream",
     "text": [
      "1\n"
     ]
    }
   ],
   "source": [
    "print((hash('Shwetank') % 3) + 1)"
   ]
  },
  {
   "cell_type": "markdown",
   "metadata": {},
   "source": [
    "<details>\n",
    "  <summary>Question 1</summary>\n",
    "\n",
    "  # Question One: Check Duplicates in Tree\n",
    "\n",
    "  Given the `root` of a binary tree, check whether it is contains a duplicate value. If a duplicate exists, return the duplicate value. If there are multiple duplicates, return the one with the closest distance to the root. If no duplicate exists, return -1.\n",
    "\n",
    "  ## Examples\n",
    "\n",
    "  ### Example 1\n",
    "\n",
    "  ![](./images/q1_ex1.png)\n",
    "\n",
    "  Input: `root = [1, 2, 2, 3, 5, 6, 7]` *What traversal method is this?*\n",
    "\n",
    "  Output: 2\n",
    "\n",
    "  ### Example 2\n",
    "\n",
    "  ![](./images/q1_ex2.png)\n",
    "\n",
    "  Input: `root = [1, 10, 2, 3, 10, 12, 12]`\n",
    "\n",
    "  Output: 10\n",
    "\n",
    "  ### Example 3\n",
    "\n",
    "  ![](./images/q1_ex3.png)\n",
    "\n",
    "  Input: `root = [10, 9, 8, 7]`\n",
    "\n",
    "  Output: -1\n",
    "\n",
    "</details>\n",
    "\n",
    "#### Starter Code for Question 1"
   ]
  },
  {
   "cell_type": "code",
   "execution_count": 126,
   "metadata": {},
   "outputs": [],
   "source": [
    "import math\n",
    "# Definition for a binary tree node.\n",
    "class TreeNode(object):\n",
    "     def __init__(self, val = 0, left = None, right = None):\n",
    "         self.val = val\n",
    "         self.left = left\n",
    "         self.right = right\n",
    "\n",
    "#Assuming incoming root is in BFS form as in first two examples\n",
    "def is_duplicate(root: TreeNode) -> int:\n",
    "  height=math.ceil(math.log2(len(root)+1)) #Find height of binary tree (works even if last level not balanced)\n",
    "  visited={}            #Dictionary to store each node and it's distance from root (it's level)\n",
    "  shortest_dist=height  #Current shortest distance (in terms of levels) of a duplicate from root, can't exceed the height of tree\n",
    "  dup=-1                #Duplicate with shortest distance to root, or -1 if no duplicate so far\n",
    "\n",
    "  for i in range(height):   #Iterate through each level of tree\n",
    "    #print(root[2**(i)-1:2*2**(i)-1])  \n",
    "    level=root[2**(i)-1:2*2**(i)-1]    #Get all values (nodes) for particular level of tree\n",
    "    \n",
    "    for j in level:   #For each node in level\n",
    "      #check if node value is duplicate of earlier node & if it has shorter distance to root than any earlier duplicates\n",
    "      if j in visited.keys() and visited[j]<shortest_dist:  \n",
    "        dup=j                        #Store node value as new shortest distance duplicate\n",
    "        shortest_dist=visited[j]     #Store new shortest distance to root of a duplicate\n",
    "      visited[j]=i                   #Store node value and it's distance from root, regardless of match\n",
    "  return dup    \n",
    "\n",
    "#Alternate solution, impler code, but still same time and space complexity as above\n",
    "def is_duplicate2(root: TreeNode) -> int:\n",
    "  uniq=set(root)\n",
    "  shortest_dist=len(root)  #Current shortest distance of a duplicate from root, can't exceed the number of nodes\n",
    "  dup=-1                #Duplicate with shortest distance to root, or -1 if no duplicate so far\n",
    "\n",
    "  for i in uniq:   #Iterate through each unique node value\n",
    "    idx=root.index(i) #Find first position where unique node value is found\n",
    "    #check if unique node value has duplicate in remaining list & if it has shorter distance to root than any earlier duplicates\n",
    "    if i in root[idx+1:] and idx<shortest_dist:\n",
    "      dup=i                        #Store node value as new shortest distance duplicate\n",
    "      shortest_dist=idx     #Store new shortest distance to root of a duplicate\n",
    "  return dup \n",
    "          "
   ]
  },
  {
   "cell_type": "code",
   "execution_count": 102,
   "metadata": {},
   "outputs": [
    {
     "data": {
      "text/plain": [
       "10"
      ]
     },
     "execution_count": 102,
     "metadata": {},
     "output_type": "execute_result"
    }
   ],
   "source": [
    "#root=[1, 2, 2, 3, 5, 6, 7]\n",
    "root=[1, 10, 2, 3, 10, 12, 12]\n",
    "#root=[10, 9, 7, 8]\n",
    "is_duplicate(root)"
   ]
  },
  {
   "cell_type": "code",
   "execution_count": 103,
   "metadata": {},
   "outputs": [
    {
     "data": {
      "text/plain": [
       "1"
      ]
     },
     "execution_count": 103,
     "metadata": {},
     "output_type": "execute_result"
    }
   ],
   "source": [
    "root=[1, 10, 2, 2, 10, 12, 12, 31, 1, 3, 2, 4]\n",
    "is_duplicate(root)"
   ]
  },
  {
   "cell_type": "code",
   "execution_count": 106,
   "metadata": {},
   "outputs": [
    {
     "data": {
      "text/plain": [
       "2"
      ]
     },
     "execution_count": 106,
     "metadata": {},
     "output_type": "execute_result"
    }
   ],
   "source": [
    "root=[1, 10, 2, 2, 10, 12, 12, 31, 3, 3, 2, 4]\n",
    "is_duplicate(root)"
   ]
  },
  {
   "cell_type": "code",
   "execution_count": 104,
   "metadata": {},
   "outputs": [
    {
     "data": {
      "text/plain": [
       "-1"
      ]
     },
     "execution_count": 104,
     "metadata": {},
     "output_type": "execute_result"
    }
   ],
   "source": [
    "root=[]\n",
    "is_duplicate(root)"
   ]
  },
  {
   "cell_type": "code",
   "execution_count": 105,
   "metadata": {},
   "outputs": [
    {
     "data": {
      "text/plain": [
       "-1"
      ]
     },
     "execution_count": 105,
     "metadata": {},
     "output_type": "execute_result"
    }
   ],
   "source": [
    "root=[3]\n",
    "is_duplicate(root)"
   ]
  },
  {
   "cell_type": "code",
   "execution_count": 127,
   "metadata": {},
   "outputs": [
    {
     "name": "stdout",
     "output_type": "stream",
     "text": [
      "2\n",
      "10\n",
      "-1\n",
      "1\n",
      "10\n",
      "-1\n",
      "-1\n"
     ]
    }
   ],
   "source": [
    "print(is_duplicate2([1, 2, 2, 3, 5, 6, 7]))\n",
    "print(is_duplicate2([1, 10, 2, 3, 10, 12, 12]))\n",
    "print(is_duplicate2([10, 9, 7, 8]))\n",
    "\n",
    "print(is_duplicate2([1, 10, 2, 2, 10, 12, 12, 31, 1, 3, 2, 4]))\n",
    "print(is_duplicate2([1, 10, 2, 2, 10, 12, 12, 31, 3, 3, 2, 4]))\n",
    "print(is_duplicate2([]))\n",
    "print(is_duplicate2([3]))"
   ]
  },
  {
   "cell_type": "markdown",
   "metadata": {},
   "source": [
    "<details>\n",
    "  <summary>Question 2</summary>\n",
    "\n",
    "  # Question Two: Path to Leaves\n",
    "\n",
    "  Given the `root` of a binary tree, return all root to leaf paths in any order.\n",
    "\n",
    "  ## Examples\n",
    "\n",
    "  ### Example 1\n",
    "\n",
    "  ![](./images/q1_ex1.png)\n",
    "\n",
    "  Input: `root = [1, 2, 2, 3, 5, 6, 7]` *What traversal method is this?*\n",
    "\n",
    "  Output: [[1, 2, 3], [1, 2, 5], [1, 2, 6], [1, 2, 7]]\n",
    "\n",
    "  ### Example 2\n",
    "\n",
    "  ![](./images/q1_ex3.png)\n",
    "\n",
    "  Input: `root = [10, 9, 7, 8]`\n",
    "\n",
    "  Output: [[10, 7], [10, 9, 8]]\n",
    "\n",
    "</details>\n",
    "\n",
    "#### Starter Code for Question 2"
   ]
  },
  {
   "cell_type": "code",
   "execution_count": null,
   "metadata": {},
   "outputs": [],
   "source": [
    "# Definition for a binary tree node.\n",
    "# class TreeNode(object):\n",
    "#     def __init__(self, val = 0, left = None, right = None):\n",
    "#         self.val = val\n",
    "#         self.left = left\n",
    "#         self.right = right\n",
    "def bt_path(root: TreeNode) -> List[List[int]]:\n",
    "  # TODO"
   ]
  },
  {
   "cell_type": "markdown",
   "metadata": {},
   "source": [
    "<details>\n",
    "  <summary>Question 3</summary>\n",
    "\n",
    "  # Question Three: Missing Number in Range\n",
    " \n",
    "  You are given a list containing `n` integers in the range `[0, n]`. Return a list of numbers that are missing from the range `[0, n]` of the array. If there is no missing number, return -1. Note, all the integers in the list may not be unique.\n",
    "  \n",
    "  ## Examples\n",
    "\n",
    "  ### Example 1\n",
    "\n",
    "  Input: `lst = [0, 2]`\n",
    "\n",
    "  Output: [1]\n",
    "\n",
    "  ### Example 2\n",
    "\n",
    "  Input: `lst = [5, 0, 1]`\n",
    "\n",
    "  Output: [2, 3, 4]\n",
    "\n",
    "  ### Example 3\n",
    "\n",
    "  Input: `lst = [6, 8, 2, 3, 5, 7, 0, 1, 10]`\n",
    "\n",
    "  Output: [4, 9]\n",
    "\n",
    "</details>\n",
    "\n",
    "#### Starter Code for Question 3\n"
   ]
  },
  {
   "cell_type": "code",
   "execution_count": null,
   "metadata": {},
   "outputs": [],
   "source": [
    "def missing_num(nums: List) -> int:\n",
    "  # TODO"
   ]
  },
  {
   "cell_type": "markdown",
   "metadata": {},
   "source": [
    "\n",
    "## Part 2:\n",
    "\n",
    "-   Paraphrase the problem in your own words\n"
   ]
  },
  {
   "cell_type": "code",
   "execution_count": null,
   "metadata": {},
   "outputs": [],
   "source": [
    "# The problem is basically calling for a type of search function that goes through a tree looking for duplicates and returns either the duplicate set with a member closest to the root or\n",
    "# that no duplicates could be found. Note that if multiple sets of duplicates have the same shortest distance to the root, only one matching value is returned\n",
    "# as the function is annotated to only return an integer. It could be extended to return a list of all duplicates with the same shortest distance. "
   ]
  },
  {
   "cell_type": "markdown",
   "metadata": {},
   "source": [
    "- In this .ipynb file, there are examples that illustrate how the code should work (the examples provided above). Create 2 new examples for the question you have been assigned, that demonstrate you understand the problem. For question 1 and 2, you don't need to create the tree demonstration, just the input and output.\n"
   ]
  },
  {
   "cell_type": "code",
   "execution_count": null,
   "metadata": {},
   "outputs": [],
   "source": [
    "# If root=[1], output should be -1 as a single leaf tree has no duplicates. If root=[1, 10, 2, 2, 10, 12, 12, 31, 1, 3, 2, 4], this returns 1, which is the first pair of values to show duplicates\n",
    "# at the shortest distance, even though it has multiple other duplicates (10, 2 & 12), the 1 has shortest possible distance as it occurs in the root node itself.\n",
    "# This is an extension of the example 2 tree (with the first 3 value replaced with 10) & is a 4 level tree with last level imbalanced. Note also that 10 and 2 have tied distance to root but\n",
    "# the 2 match occurs first and so would be returned if the 1s did not match (eg. if root=[1, 10, 2, 2, 10, 12, 12, 31, 1, 3, 2, 4], returns 2). "
   ]
  },
  {
   "cell_type": "markdown",
   "metadata": {},
   "source": [
    "\n",
    "-   Code the solution to your assigned problem in Python (code chunk). Try to find the best time and space complexity solution!\n"
   ]
  },
  {
   "cell_type": "code",
   "execution_count": null,
   "metadata": {},
   "outputs": [],
   "source": [
    "# See code above"
   ]
  },
  {
   "cell_type": "markdown",
   "metadata": {},
   "source": [
    "\n",
    "-   Explain why your solution works\n"
   ]
  },
  {
   "cell_type": "code",
   "execution_count": null,
   "metadata": {},
   "outputs": [],
   "source": [
    "#The solution works because the code goes through the tree in breadth (BFS) traversal and keeps track of each node value and it's depth in the tree (it's level in code comments).\n",
    "#For each depth level, the code extracts all nodes (going across the breadth of tree), stores each node value in a dicitonary as key and its depth level as dictionary value while also\n",
    "#checking to see if the node value matches a previously stored one; if it does match (a duplicate), the depth of level of the earlier matching node value (from dict) is checked to see\n",
    "# if it is the smallest one so far for any duplicates, if it is then this is now considered the best matching duplicate and the earlier node's lower depth level is stored as the \n",
    "#shortest distance to root so far. Ultimately solution is demonstrated to work for many example tree inputs, including base cases of empty and single node trees."
   ]
  },
  {
   "cell_type": "markdown",
   "metadata": {},
   "source": [
    "\n",
    "-   Explain the problem’s time and space complexity\n"
   ]
  },
  {
   "cell_type": "code",
   "execution_count": null,
   "metadata": {},
   "outputs": [],
   "source": [
    "# The time complexity is O(n) as each node has to be checked if it is duplicate of earlier node (in inner for loop) but only occurs once in the outer for loop.\n",
    "# Space complexity is also O(n) as each node also has to stored at least once with just duplicate value, shortest distance, iterator value and height also being stored. "
   ]
  },
  {
   "cell_type": "markdown",
   "metadata": {},
   "source": [
    "\n",
    "-   Explain the thinking to an alternative solution (no coding required, but a classmate reading this should be able to code it up based off your text)\n"
   ]
  },
  {
   "cell_type": "code",
   "execution_count": 112,
   "metadata": {},
   "outputs": [],
   "source": [
    "#One alternative solution would involve making a set of all unique node values. Then taking an element of unique set, use index method to find it's first occurance position [i]\n",
    "#in root input list. Then for remaining list after that position [i:], see if another instance occurs. If another instance does occur, check if i is smaller than current shortest distance\n",
    "#(initilized as length of root input), if i<shortest_distance, store current element of unique set in duplicate variable (initiliazed to -1) and store i in shorest_distance. Finally \n",
    "#remove current element from set (regardless of 2nd match). Now take another element from set and repeat above process. Keep doing until set is empty. \n",
    "\n",
    "#Have also coded this solution above (is_duplicate2), though will have same O(n) for both time and space complexity, the code is quite more compact. Also for ties in duplicates \n",
    "#(in terms of distance to root), this second function returns the last duplicate set instead of first as in the earlier function"
   ]
  },
  {
   "cell_type": "markdown",
   "metadata": {},
   "source": [
    "## Evaluation Criteria\n",
    "\n",
    "-   Problem is accurately stated\n",
    "\n",
    "-   Two examples are correct and easily understandable\n",
    "\n",
    "-   Correctness, time, and space complexity of the coding solution\n",
    "\n",
    "-   Clarity in explaining why the solution works, its time and space complexity\n",
    "\n",
    "-   Clarity in the proposal to the alternative solution"
   ]
  },
  {
   "cell_type": "markdown",
   "metadata": {},
   "source": [
    "## Submission Information\n",
    "\n",
    "🚨 **Please review our [Assignment Submission Guide](https://github.com/UofT-DSI/onboarding/blob/main/onboarding_documents/submissions.md)** 🚨 for detailed instructions on how to format, branch, and submit your work. Following these guidelines is crucial for your submissions to be evaluated correctly.\n",
    "\n",
    "### Submission Parameters:\n",
    "* Submission Due Date: `HH:MM AM/PM - DD/MM/YYYY`\n",
    "* The branch name for your repo should be: `assignment-1`\n",
    "* What to submit for this assignment:\n",
    "    * This Jupyter Notebook (assignment_1.ipynb) should be populated and should be the only change in your pull request.\n",
    "* What the pull request link should look like for this assignment: `https://github.com/<your_github_username>/algorithms_and_data_structures/pull/<pr_id>`\n",
    "    * Open a private window in your browser. Copy and paste the link to your pull request into the address bar. Make sure you can see your pull request properly. This helps the technical facilitator and learning support staff review your submission easily.\n",
    "\n",
    "Checklist:\n",
    "- [ ] Create a branch called `assignment-1`.\n",
    "- [ ] Ensure that the repository is public.\n",
    "- [ ] Review [the PR description guidelines](https://github.com/UofT-DSI/onboarding/blob/main/onboarding_documents/submissions.md#guidelines-for-pull-request-descriptions) and adhere to them.\n",
    "- [ ] Verify that the link is accessible in a private browser window.\n",
    "\n",
    "If you encounter any difficulties or have questions, please don't hesitate to reach out to our team via our Slack at `#cohort-3-help`. Our Technical Facilitators and Learning Support staff are here to help you navigate any challenges."
   ]
  }
 ],
 "metadata": {
  "kernelspec": {
   "display_name": "Python 3",
   "language": "python",
   "name": "python3"
  },
  "language_info": {
   "codemirror_mode": {
    "name": "ipython",
    "version": 3
   },
   "file_extension": ".py",
   "mimetype": "text/x-python",
   "name": "python",
   "nbconvert_exporter": "python",
   "pygments_lexer": "ipython3",
   "version": "3.9.15"
  }
 },
 "nbformat": 4,
 "nbformat_minor": 2
}
